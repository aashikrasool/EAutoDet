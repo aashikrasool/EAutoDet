{
  "nbformat": 4,
  "nbformat_minor": 0,
  "metadata": {
    "colab": {
      "private_outputs": true,
      "provenance": [],
      "machine_shape": "hm",
      "gpuType": "A100",
      "authorship_tag": "ABX9TyMvTTM6qJIF9fbb5iHAFlMx",
      "include_colab_link": true
    },
    "kernelspec": {
      "name": "python3",
      "display_name": "Python 3"
    },
    "language_info": {
      "name": "python"
    },
    "accelerator": "GPU"
  },
  "cells": [
    {
      "cell_type": "markdown",
      "metadata": {
        "id": "view-in-github",
        "colab_type": "text"
      },
      "source": [
        "<a href=\"https://colab.research.google.com/github/aashikrasool/EAutoDet/blob/master/EAutodet.ipynb\" target=\"_parent\"><img src=\"https://colab.research.google.com/assets/colab-badge.svg\" alt=\"Open In Colab\"/></a>"
      ]
    },
    {
      "cell_type": "code",
      "execution_count": null,
      "metadata": {
        "id": "9eP4BfF8OdIX"
      },
      "outputs": [],
      "source": [
        "!git clone https://github.com/aashikrasool/EAutoDet.git"
      ]
    },
    {
      "cell_type": "code",
      "source": [
        "cd EAutoDet"
      ],
      "metadata": {
        "id": "qbCniNOHOnDH"
      },
      "execution_count": null,
      "outputs": []
    },
    {
      "cell_type": "code",
      "source": [
        "ls\n"
      ],
      "metadata": {
        "id": "gm3JophGOxeE"
      },
      "execution_count": null,
      "outputs": []
    },
    {
      "cell_type": "code",
      "source": [
        "!pip install thop"
      ],
      "metadata": {
        "id": "NMBr0rxhY_sy"
      },
      "execution_count": null,
      "outputs": []
    },
    {
      "cell_type": "code",
      "source": [
        "!pip install wandb"
      ],
      "metadata": {
        "id": "Dio2_oXWboTt"
      },
      "execution_count": null,
      "outputs": []
    },
    {
      "cell_type": "code",
      "source": [
        "!bash data/scripts/get_coco.sh"
      ],
      "metadata": {
        "id": "8Lg26SaJO99O"
      },
      "execution_count": null,
      "outputs": []
    },
    {
      "cell_type": "code",
      "source": [
        "!touch logs/EAutoDet-s_test1.log\n"
      ],
      "metadata": {
        "id": "M6YrDoKPcI0z"
      },
      "execution_count": null,
      "outputs": []
    },
    {
      "cell_type": "code",
      "source": [
        "!bash scripts/search.sh 0"
      ],
      "metadata": {
        "id": "8hnodOlxPFOI"
      },
      "execution_count": null,
      "outputs": []
    },
    {
      "cell_type": "code",
      "source": [
        "!python -u train_search.py --data $data --cfg $cfg --weights '' --epochs 50 --batch-size $BATCHSIZE > $LOG_DIR/${cfg_file}_test1.log 2>&1 &\n",
        "\n"
      ],
      "metadata": {
        "id": "LruE8zGJPNuY"
      },
      "execution_count": null,
      "outputs": []
    },
    {
      "cell_type": "code",
      "source": [
        "!!python -u train_search.py --data $data --cfg $cfg --weights '' --epochs 50 --batch-size $BATCHSIZE > $LOG_DIR/${cfg_file}_test1.log 2>&1\n"
      ],
      "metadata": {
        "id": "Yq7qlZBtRrpq"
      },
      "execution_count": null,
      "outputs": []
    },
    {
      "cell_type": "code",
      "source": [
        "!bash scripts/full_train.sh 0"
      ],
      "metadata": {
        "id": "2xK2W_B9SFw7"
      },
      "execution_count": null,
      "outputs": []
    },
    {
      "cell_type": "code",
      "source": [],
      "metadata": {
        "id": "RRnUZSD4SlNK"
      },
      "execution_count": null,
      "outputs": []
    }
  ]
}